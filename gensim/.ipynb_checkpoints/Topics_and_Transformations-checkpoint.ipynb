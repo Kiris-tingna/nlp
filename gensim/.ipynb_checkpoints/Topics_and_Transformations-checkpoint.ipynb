{
 "cells": [
  {
   "cell_type": "markdown",
   "metadata": {},
   "source": [
    "# Topics and Transformation"
   ]
  },
  {
   "cell_type": "markdown",
   "metadata": {},
   "source": [
    "Don't forget to set"
   ]
  },
  {
   "cell_type": "code",
   "execution_count": 1,
   "metadata": {
    "collapsed": true
   },
   "outputs": [],
   "source": [
    "import logging\n",
    "import os.path\n",
    "\n",
    "logging.basicConfig(format='%(asctime)s : %(levelname)s : %(message)s', level=logging.INFO)"
   ]
  },
  {
   "cell_type": "markdown",
   "metadata": {},
   "source": [
    "if you want to see logging events.\n",
    "\n",
    "## Transformation interface\n",
    "\n",
    "In the previous tutorial on [Corpora and Vector Spaces](https://radimrehurek.com/gensim/tut1.html), we created a corpus of documents represented as a stream of vectors. To continue, let’s fire up gensim and use that corpus:"
   ]
  },
  {
   "cell_type": "code",
   "execution_count": 2,
   "metadata": {
    "collapsed": false
   },
   "outputs": [
    {
     "name": "stderr",
     "output_type": "stream",
     "text": [
      "C:\\Users\\luolitao\\Anaconda3\\lib\\site-packages\\gensim\\utils.py:860: UserWarning: detected Windows; aliasing chunkize to chunkize_serial\n",
      "  warnings.warn(\"detected Windows; aliasing chunkize to chunkize_serial\")\n",
      "2017-05-26 14:12:49,705 : INFO : 'pattern' package not found; tag filters are not available for English\n",
      "2017-05-26 14:12:49,716 : INFO : loading Dictionary object from tmp/deerwester.dict\n",
      "2017-05-26 14:12:49,718 : INFO : loaded tmp/deerwester.dict\n",
      "2017-05-26 14:12:49,721 : INFO : loaded corpus index from tmp/deerwester.mm.index\n",
      "2017-05-26 14:12:49,723 : INFO : initializing corpus reader from tmp/deerwester.mm\n",
      "2017-05-26 14:12:49,726 : INFO : accepted corpus with 9 documents, 12 features, 28 non-zero entries\n"
     ]
    },
    {
     "name": "stdout",
     "output_type": "stream",
     "text": [
      "Used files generated from first tutorial\n"
     ]
    }
   ],
   "source": [
    "from gensim import corpora, models, similarities\n",
    "if (os.path.exists(\"tmp/deerwester.dict\")):\n",
    "    dictionary = corpora.Dictionary.load('tmp/deerwester.dict')\n",
    "    corpus = corpora.MmCorpus('tmp/deerwester.mm')\n",
    "    print(\"Used files generated from first tutorial\")\n",
    "else:\n",
    "    print(\"Please run first tutorial to generate data set\")"
   ]
  },
  {
   "cell_type": "code",
   "execution_count": 3,
   "metadata": {
    "collapsed": false
   },
   "outputs": [
    {
     "name": "stdout",
     "output_type": "stream",
     "text": [
      "human\n",
      "interface\n",
      "computer\n"
     ]
    }
   ],
   "source": [
    "print (dictionary[0])\n",
    "print (dictionary[1])\n",
    "print (dictionary[2])"
   ]
  },
  {
   "cell_type": "markdown",
   "metadata": {},
   "source": [
    "In this tutorial, I will show how to transform documents from one vector representation into another. This process serves two goals:\n",
    "\n",
    "1. To bring out hidden structure in the corpus, discover relationships between words and use them to describe the documents in a new and (hopefully) more semantic way.\n",
    "1. To make the document representation more compact. This both improves efficiency (new representation consumes less resources) and efficacy (marginal data trends are ignored, noise-reduction).\n",
    "\n",
    "### Creating a transformation\n",
    "\n",
    "The transformations are standard Python objects, typically initialized by means of a training corpus:"
   ]
  },
  {
   "cell_type": "code",
   "execution_count": 4,
   "metadata": {
    "collapsed": false
   },
   "outputs": [
    {
     "name": "stderr",
     "output_type": "stream",
     "text": [
      "2017-05-26 14:13:34,540 : INFO : collecting document frequencies\n",
      "2017-05-26 14:13:34,543 : INFO : PROGRESS: processing document #0\n",
      "2017-05-26 14:13:34,545 : INFO : calculating IDF weights for 9 documents and 11 features (28 matrix non-zeros)\n"
     ]
    }
   ],
   "source": [
    "tfidf = models.TfidfModel(corpus) # step 1 -- initialize a model"
   ]
  },
  {
   "cell_type": "markdown",
   "metadata": {},
   "source": [
    "We used our old corpus from tutorial 1 to initialize (train) the transformation model. Different transformations may require different initialization parameters; in case of TfIdf, the “training” consists simply of going through the supplied corpus once and computing document frequencies of all its features. Training other models, such as Latent Semantic Analysis or Latent Dirichlet Allocation, is much more involved and, consequently, takes much more time.\n",
    "\n",
    "> <B>Note</B>:\n",
    "> Transformations always convert between two specific vector spaces. The same vector space (= the same set of feature ids) must be used for training as well as for subsequent vector transformations. Failure to use the same input feature space, such as applying a different string preprocessing, using different feature ids, or using bag-of-words input vectors where TfIdf vectors are expected, will result in feature mismatch during transformation calls and consequently in either garbage output and/or runtime exceptions."
   ]
  },
  {
   "cell_type": "code",
   "execution_count": 5,
   "metadata": {
    "collapsed": false
   },
   "outputs": [
    {
     "name": "stdout",
     "output_type": "stream",
     "text": [
      "[(0, 0.7071067811865476), (1, 0.7071067811865476)]\n"
     ]
    }
   ],
   "source": [
    "doc_bow = [(0, 1), (1, 1)]\n",
    "print(tfidf[doc_bow]) # step 2 -- use the model to transform vectors"
   ]
  },
  {
   "cell_type": "markdown",
   "metadata": {},
   "source": [
    "Or to apply a transformation to a whole corpus:"
   ]
  },
  {
   "cell_type": "code",
   "execution_count": 6,
   "metadata": {
    "collapsed": false
   },
   "outputs": [
    {
     "name": "stdout",
     "output_type": "stream",
     "text": [
      "[(0, 0.5773502691896257), (1, 0.5773502691896257), (2, 0.5773502691896257)]\n",
      "[(2, 0.44424552527467476), (3, 0.44424552527467476), (4, 0.3244870206138555), (5, 0.3244870206138555), (6, 0.44424552527467476), (7, 0.44424552527467476)]\n",
      "[(1, 0.5710059809418182), (4, 0.4170757362022777), (5, 0.4170757362022777), (8, 0.5710059809418182)]\n",
      "[(0, 0.49182558987264147), (5, 0.7184811607083769), (8, 0.49182558987264147)]\n",
      "[(4, 0.45889394536615247), (6, 0.6282580468670046), (7, 0.6282580468670046)]\n",
      "[(9, 1.0)]\n",
      "[(9, 0.7071067811865475), (10, 0.7071067811865475)]\n",
      "[(9, 0.5080429008916749), (10, 0.5080429008916749), (11, 0.695546419520037)]\n",
      "[(3, 0.6282580468670046), (10, 0.45889394536615247), (11, 0.6282580468670046)]\n"
     ]
    }
   ],
   "source": [
    "corpus_tfidf = tfidf[corpus]\n",
    "for doc in corpus_tfidf:\n",
    "    print(doc)"
   ]
  },
  {
   "cell_type": "markdown",
   "metadata": {},
   "source": [
    "In this particular case, we are transforming the same corpus that we used for training, but this is only incidental. Once the transformation model has been initialized, it can be used on any vectors (provided they come from the same vector space, of course), even if they were not used in the training corpus at all. This is achieved by a process called folding-in for LSA, by topic inference for LDA etc.\n",
    "\n",
    "> <b>Note:</b> \n",
    "> Calling model[corpus] only creates a wrapper around the old corpus document stream – actual conversions are done on-the-fly, during document iteration. We cannot convert the entire corpus at the time of calling corpus_transformed = model[corpus], because that would mean storing the result in main memory, and that contradicts gensim’s objective of memory-indepedence. If you will be iterating over the transformed corpus_transformed multiple times, and the transformation is costly, serialize the resulting corpus to disk first and continue using that.\n",
    "\n",
    "Transformations can also be serialized, one on top of another, in a sort of chain:"
   ]
  },
  {
   "cell_type": "code",
   "execution_count": 7,
   "metadata": {
    "collapsed": false
   },
   "outputs": [
    {
     "name": "stderr",
     "output_type": "stream",
     "text": [
      "2017-05-26 14:14:11,682 : INFO : using serial LSI version on this node\n",
      "2017-05-26 14:14:11,685 : INFO : updating model with new documents\n",
      "2017-05-26 14:14:11,688 : INFO : preparing a new chunk of documents\n",
      "2017-05-26 14:14:11,691 : INFO : using 100 extra samples and 2 power iterations\n",
      "2017-05-26 14:14:11,693 : INFO : 1st phase: constructing (12, 102) action matrix\n",
      "2017-05-26 14:14:11,712 : INFO : orthonormalizing (12, 102) action matrix\n",
      "2017-05-26 14:14:11,765 : INFO : 2nd phase: running dense svd on (12, 9) matrix\n",
      "2017-05-26 14:14:11,795 : INFO : computing the final decomposition\n",
      "2017-05-26 14:14:11,798 : INFO : keeping 2 factors (discarding 47.565% of energy spectrum)\n",
      "2017-05-26 14:14:11,803 : INFO : processed documents up to #9\n",
      "2017-05-26 14:14:11,812 : INFO : topic #0(1.594): 0.703*\"trees\" + 0.538*\"graph\" + 0.402*\"minors\" + 0.187*\"survey\" + 0.061*\"system\" + 0.060*\"response\" + 0.060*\"time\" + 0.058*\"user\" + 0.049*\"computer\" + 0.035*\"interface\"\n",
      "2017-05-26 14:14:11,814 : INFO : topic #1(1.476): -0.460*\"system\" + -0.373*\"user\" + -0.332*\"eps\" + -0.328*\"interface\" + -0.320*\"time\" + -0.320*\"response\" + -0.293*\"computer\" + -0.280*\"human\" + -0.171*\"survey\" + 0.161*\"trees\"\n"
     ]
    }
   ],
   "source": [
    "lsi = models.LsiModel(corpus_tfidf, id2word=dictionary, num_topics=2) # initialize an LSI transformation\n",
    "corpus_lsi = lsi[corpus_tfidf] # create a double wrapper over the original corpus: bow->tfidf->fold-in-lsi"
   ]
  },
  {
   "cell_type": "markdown",
   "metadata": {},
   "source": [
    "Here we transformed our Tf-Idf corpus via [Latent Semantic Indexing](http://en.wikipedia.org/wiki/Latent_semantic_indexing) into a latent 2-D space (2-D because we set num_topics=2). Now you’re probably wondering: what do these two latent dimensions stand for? Let’s inspect with models.LsiModel.print_topics():"
   ]
  },
  {
   "cell_type": "code",
   "execution_count": 8,
   "metadata": {
    "collapsed": false
   },
   "outputs": [
    {
     "name": "stderr",
     "output_type": "stream",
     "text": [
      "2017-05-26 14:15:15,885 : INFO : topic #0(1.594): 0.703*\"trees\" + 0.538*\"graph\" + 0.402*\"minors\" + 0.187*\"survey\" + 0.061*\"system\" + 0.060*\"response\" + 0.060*\"time\" + 0.058*\"user\" + 0.049*\"computer\" + 0.035*\"interface\"\n",
      "2017-05-26 14:15:15,888 : INFO : topic #1(1.476): -0.460*\"system\" + -0.373*\"user\" + -0.332*\"eps\" + -0.328*\"interface\" + -0.320*\"time\" + -0.320*\"response\" + -0.293*\"computer\" + -0.280*\"human\" + -0.171*\"survey\" + 0.161*\"trees\"\n"
     ]
    },
    {
     "data": {
      "text/plain": [
       "[(0,\n",
       "  '0.703*\"trees\" + 0.538*\"graph\" + 0.402*\"minors\" + 0.187*\"survey\" + 0.061*\"system\" + 0.060*\"response\" + 0.060*\"time\" + 0.058*\"user\" + 0.049*\"computer\" + 0.035*\"interface\"'),\n",
       " (1,\n",
       "  '-0.460*\"system\" + -0.373*\"user\" + -0.332*\"eps\" + -0.328*\"interface\" + -0.320*\"time\" + -0.320*\"response\" + -0.293*\"computer\" + -0.280*\"human\" + -0.171*\"survey\" + 0.161*\"trees\"')]"
      ]
     },
     "execution_count": 8,
     "metadata": {},
     "output_type": "execute_result"
    }
   ],
   "source": [
    "lsi.print_topics(2)"
   ]
  },
  {
   "cell_type": "markdown",
   "metadata": {},
   "source": [
    "(the topics are printed to log – see the note at the top of this page about activating logging)\n",
    "\n",
    "It appears that according to LSI, “trees”, “graph” and “minors” are all related words (and contribute the most to the direction of the first topic), while the second topic practically concerns itself with all the other words. As expected, the first five documents are more strongly related to the second topic while the remaining four documents to the first topic:"
   ]
  },
  {
   "cell_type": "code",
   "execution_count": 9,
   "metadata": {
    "collapsed": false
   },
   "outputs": [
    {
     "name": "stdout",
     "output_type": "stream",
     "text": [
      "[(0, 0.06600783396090229), (1, -0.52007033063618624)]\n",
      "[(0, 0.19667592859142291), (1, -0.7609563167700063)]\n",
      "[(0, 0.089926399724462175), (1, -0.72418606267525187)]\n",
      "[(0, 0.075858476521779669), (1, -0.63205515860034356)]\n",
      "[(0, 0.10150299184979972), (1, -0.57373084830029653)]\n",
      "[(0, 0.70321089393783232), (1, 0.16115180214025676)]\n",
      "[(0, 0.87747876731198438), (1, 0.16758906864659212)]\n",
      "[(0, 0.90986246868185883), (1, 0.14086553628718776)]\n",
      "[(0, 0.61658253505692828), (1, -0.053929075663895959)]\n"
     ]
    }
   ],
   "source": [
    "for doc in corpus_lsi: # both bow->tfidf and tfidf->lsi transformations are actually executed here, on the fly\n",
    "    print(doc)"
   ]
  },
  {
   "cell_type": "code",
   "execution_count": 10,
   "metadata": {
    "collapsed": false
   },
   "outputs": [
    {
     "name": "stderr",
     "output_type": "stream",
     "text": [
      "2017-05-26 14:15:53,543 : INFO : saving Projection object under tmp/model.lsi.projection, separately None\n",
      "2017-05-26 14:15:53,547 : INFO : saved tmp/model.lsi.projection\n",
      "2017-05-26 14:15:53,549 : INFO : saving LsiModel object under tmp/model.lsi, separately None\n",
      "2017-05-26 14:15:53,551 : INFO : not storing attribute projection\n",
      "2017-05-26 14:15:53,553 : INFO : not storing attribute dispatcher\n",
      "2017-05-26 14:15:53,557 : INFO : saved tmp/model.lsi\n",
      "2017-05-26 14:15:53,559 : INFO : loading LsiModel object from tmp/model.lsi\n",
      "2017-05-26 14:15:53,562 : INFO : loading id2word recursively from tmp/model.lsi.id2word.* with mmap=None\n",
      "2017-05-26 14:15:53,564 : INFO : setting ignored attribute projection to None\n",
      "2017-05-26 14:15:53,566 : INFO : setting ignored attribute dispatcher to None\n",
      "2017-05-26 14:15:53,568 : INFO : loaded tmp/model.lsi\n",
      "2017-05-26 14:15:53,570 : INFO : loading LsiModel object from tmp/model.lsi.projection\n",
      "2017-05-26 14:15:53,573 : INFO : loaded tmp/model.lsi.projection\n"
     ]
    }
   ],
   "source": [
    "lsi.save('tmp/model.lsi') # same for tfidf, lda, ...\n",
    "lsi = models.LsiModel.load('tmp/model.lsi')"
   ]
  },
  {
   "cell_type": "markdown",
   "metadata": {},
   "source": [
    "The next question might be: just how exactly similar are those documents to each other? Is there a way to formalize the similarity, so that for a given input document, we can order some other set of documents according to their similarity? Similarity queries are covered in the [next tutorial](https://radimrehurek.com/gensim/tut3.html)."
   ]
  },
  {
   "cell_type": "markdown",
   "metadata": {},
   "source": [
    "## Available transformations\n",
    "\n",
    "Gensim implements several popular Vector Space Model algorithms:\n",
    "\n",
    "### [Term Frequency * Inverse Document Frequency](http://en.wikipedia.org/wiki/Tf–idf) \n",
    "Tf-Idf expects a bag-of-words (integer values) training corpus during initialization. During transformation, it will take a vector and return another vector of the same dimensionality, except that features which were rare in the training corpus will have their value increased. It therefore converts integer-valued vectors into real-valued ones, while leaving the number of dimensions intact. It can also optionally normalize the resulting vectors to (Euclidean) unit length."
   ]
  },
  {
   "cell_type": "code",
   "execution_count": 11,
   "metadata": {
    "collapsed": false
   },
   "outputs": [
    {
     "name": "stderr",
     "output_type": "stream",
     "text": [
      "2017-05-26 14:16:03,734 : INFO : collecting document frequencies\n",
      "2017-05-26 14:16:03,737 : INFO : PROGRESS: processing document #0\n",
      "2017-05-26 14:16:03,739 : INFO : calculating IDF weights for 9 documents and 11 features (28 matrix non-zeros)\n"
     ]
    }
   ],
   "source": [
    "model = models.TfidfModel(corpus, normalize=True)"
   ]
  },
  {
   "cell_type": "markdown",
   "metadata": {},
   "source": [
    "### [Latent Semantic Indexing, LSI (or sometimes LSA)](http://en.wikipedia.org/wiki/Latent_semantic_indexing) \n",
    "LSI transforms documents from either bag-of-words or (preferrably) TfIdf-weighted space into a latent space of a lower dimensionality. For the toy corpus above we used only 2 latent dimensions, but on real corpora, target dimensionality of 200–500 is recommended as a “golden standard” [1]."
   ]
  },
  {
   "cell_type": "code",
   "execution_count": 12,
   "metadata": {
    "collapsed": false
   },
   "outputs": [
    {
     "name": "stderr",
     "output_type": "stream",
     "text": [
      "2017-05-26 14:16:08,774 : INFO : using serial LSI version on this node\n",
      "2017-05-26 14:16:08,777 : INFO : updating model with new documents\n",
      "2017-05-26 14:16:08,781 : INFO : preparing a new chunk of documents\n",
      "2017-05-26 14:16:08,784 : INFO : using 100 extra samples and 2 power iterations\n",
      "2017-05-26 14:16:08,786 : INFO : 1st phase: constructing (12, 400) action matrix\n",
      "2017-05-26 14:16:08,789 : INFO : orthonormalizing (12, 400) action matrix\n",
      "2017-05-26 14:16:08,796 : INFO : 2nd phase: running dense svd on (12, 9) matrix\n",
      "2017-05-26 14:16:08,800 : INFO : computing the final decomposition\n",
      "2017-05-26 14:16:08,802 : INFO : keeping 9 factors (discarding 0.000% of energy spectrum)\n",
      "2017-05-26 14:16:08,805 : INFO : processed documents up to #9\n",
      "2017-05-26 14:16:08,808 : INFO : topic #0(1.594): 0.703*\"trees\" + 0.538*\"graph\" + 0.402*\"minors\" + 0.187*\"survey\" + 0.061*\"system\" + 0.060*\"time\" + 0.060*\"response\" + 0.058*\"user\" + 0.049*\"computer\" + 0.035*\"interface\"\n",
      "2017-05-26 14:16:08,813 : INFO : topic #1(1.476): -0.460*\"system\" + -0.373*\"user\" + -0.332*\"eps\" + -0.328*\"interface\" + -0.320*\"time\" + -0.320*\"response\" + -0.293*\"computer\" + -0.280*\"human\" + -0.171*\"survey\" + 0.161*\"trees\"\n",
      "2017-05-26 14:16:08,819 : INFO : topic #2(1.191): 0.456*\"time\" + 0.456*\"response\" + -0.352*\"eps\" + -0.340*\"human\" + -0.318*\"interface\" + -0.277*\"system\" + 0.272*\"survey\" + 0.213*\"user\" + -0.183*\"trees\" + 0.114*\"minors\"\n",
      "2017-05-26 14:16:08,827 : INFO : topic #3(1.043): -0.583*\"trees\" + 0.556*\"minors\" + 0.399*\"survey\" + 0.256*\"graph\" + -0.211*\"response\" + -0.211*\"time\" + -0.160*\"user\" + 0.081*\"human\" + 0.038*\"interface\" + 0.035*\"system\"\n",
      "2017-05-26 14:16:08,833 : INFO : topic #4(0.884): -0.611*\"computer\" + 0.425*\"system\" + 0.420*\"eps\" + -0.354*\"interface\" + -0.339*\"human\" + 0.148*\"user\" + 0.058*\"minors\" + -0.047*\"trees\" + 0.034*\"graph\" + -0.027*\"survey\"\n"
     ]
    }
   ],
   "source": [
    "model = models.LsiModel(corpus_tfidf, id2word=dictionary, num_topics=300)"
   ]
  },
  {
   "cell_type": "markdown",
   "metadata": {},
   "source": [
    "LSI training is unique in that we can continue “training” at any point, simply by providing more training documents. This is done by incremental updates to the underlying model, in a process called online training. Because of this feature, the input document stream may even be infinite – just keep feeding LSI new documents as they arrive, while using the computed transformation model as read-only in the meanwhile!"
   ]
  },
  {
   "cell_type": "markdown",
   "metadata": {},
   "source": [
    "> <b>Example</b> \n",
    "> \n",
    "> model.add_documents(another_tfidf_corpus) # now LSI has been trained on tfidf_corpus + another_tfidf_corpus\n",
    "> lsi_vec = model[tfidf_vec] # convert some new document into the LSI space, without affecting the model\n",
    "\n",
    "> model.add_documents(more_documents) # tfidf_corpus + another_tfidf_corpus + more_documents\n",
    "> lsi_vec = model[tfidf_vec]\n"
   ]
  },
  {
   "cell_type": "markdown",
   "metadata": {},
   "source": [
    "See the [gensim.models.lsimodel](https://radimrehurek.com/gensim/models/lsimodel.html#module-gensim.models.lsimodel) documentation for details on how to make LSI gradually “forget” old observations in infinite streams. If you want to get dirty, there are also parameters you can tweak that affect speed vs. memory footprint vs. numerical precision of the LSI algorithm.\n",
    "\n",
    "gensim uses a novel online incremental streamed distributed training algorithm (quite a mouthful!), which I published in [5]. gensim also executes a stochastic multi-pass algorithm from Halko et al. [4] internally, to accelerate in-core part of the computations. See also \n",
    "    [Experiments on the English Wikipedia](https://radimrehurek.com/gensim/wiki.html) for further speed-ups by distributing the computation across a cluster of computers."
   ]
  },
  {
   "cell_type": "markdown",
   "metadata": {},
   "source": [
    "### [Random Projections](http://www.cis.hut.fi/ella/publications/randproj_kdd.pdf)\n",
    "RP aim to reduce vector space dimensionality. This is a very efficient (both memory- and CPU-friendly) approach to approximating TfIdf distances between documents, by throwing in a little randomness. Recommended target dimensionality is again in the hundreds/thousands, depending on your dataset."
   ]
  },
  {
   "cell_type": "code",
   "execution_count": 13,
   "metadata": {
    "collapsed": false
   },
   "outputs": [
    {
     "name": "stderr",
     "output_type": "stream",
     "text": [
      "2017-05-26 14:16:20,589 : INFO : no word id mapping provided; initializing from corpus, assuming identity\n",
      "2017-05-26 14:16:20,594 : INFO : constructing (500, 12) random matrix\n"
     ]
    }
   ],
   "source": [
    "model = models.RpModel(corpus_tfidf, num_topics=500)"
   ]
  },
  {
   "cell_type": "markdown",
   "metadata": {},
   "source": [
    "### [Latent Dirichlet Allocation, LDA](http://en.wikipedia.org/wiki/Latent_Dirichlet_allocation) \n",
    "LDA is yet another transformation from bag-of-words counts into a topic space of lower dimensionality. LDA is a probabilistic extension of LSA (also called multinomial PCA), so LDA’s topics can be interpreted as probability distributions over words. These distributions are, just like with LSA, inferred automatically from a training corpus. Documents are in turn interpreted as a (soft) mixture of these topics (again, just like with LSA)."
   ]
  },
  {
   "cell_type": "code",
   "execution_count": 14,
   "metadata": {
    "collapsed": false
   },
   "outputs": [
    {
     "name": "stderr",
     "output_type": "stream",
     "text": [
      "2017-05-26 14:16:26,540 : INFO : using symmetric alpha at 0.01\n",
      "2017-05-26 14:16:26,543 : INFO : using symmetric eta at 0.08333333333333333\n",
      "2017-05-26 14:16:26,546 : INFO : using serial LDA version on this node\n",
      "2017-05-26 14:16:26,585 : INFO : running online LDA training, 100 topics, 1 passes over the supplied corpus of 9 documents, updating model once every 9 documents, evaluating perplexity every 9 documents, iterating 50x with a convergence threshold of 0.001000\n",
      "2017-05-26 14:16:26,587 : WARNING : too few updates, training might not converge; consider increasing the number of passes or iterations to improve accuracy\n",
      "2017-05-26 14:16:26,637 : INFO : -124.680 per-word bound, 34067802529659784609765435437758808064.0 perplexity estimate based on a held-out corpus of 9 documents with 29 words\n",
      "2017-05-26 14:16:26,643 : INFO : PROGRESS: pass 0, at document #9/9\n",
      "2017-05-26 14:16:26,670 : INFO : topic #60 (0.010): 0.083*\"time\" + 0.083*\"system\" + 0.083*\"graph\" + 0.083*\"trees\" + 0.083*\"eps\" + 0.083*\"human\" + 0.083*\"response\" + 0.083*\"computer\" + 0.083*\"survey\" + 0.083*\"interface\"\n",
      "2017-05-26 14:16:26,672 : INFO : topic #9 (0.010): 0.083*\"time\" + 0.083*\"system\" + 0.083*\"graph\" + 0.083*\"trees\" + 0.083*\"eps\" + 0.083*\"human\" + 0.083*\"response\" + 0.083*\"computer\" + 0.083*\"survey\" + 0.083*\"interface\"\n",
      "2017-05-26 14:16:26,675 : INFO : topic #19 (0.010): 0.083*\"time\" + 0.083*\"system\" + 0.083*\"graph\" + 0.083*\"trees\" + 0.083*\"eps\" + 0.083*\"human\" + 0.083*\"response\" + 0.083*\"computer\" + 0.083*\"survey\" + 0.083*\"interface\"\n",
      "2017-05-26 14:16:26,679 : INFO : topic #97 (0.010): 0.083*\"time\" + 0.083*\"system\" + 0.083*\"graph\" + 0.083*\"trees\" + 0.083*\"eps\" + 0.083*\"human\" + 0.083*\"response\" + 0.083*\"computer\" + 0.083*\"survey\" + 0.083*\"interface\"\n",
      "2017-05-26 14:16:26,681 : INFO : topic #82 (0.010): 0.083*\"time\" + 0.083*\"system\" + 0.083*\"graph\" + 0.083*\"trees\" + 0.083*\"eps\" + 0.083*\"human\" + 0.083*\"response\" + 0.083*\"computer\" + 0.083*\"survey\" + 0.083*\"interface\"\n",
      "2017-05-26 14:16:26,688 : INFO : topic diff=87.072563, rho=1.000000\n"
     ]
    }
   ],
   "source": [
    "model = models.LdaModel(corpus, id2word=dictionary, num_topics=100)"
   ]
  },
  {
   "cell_type": "markdown",
   "metadata": {},
   "source": [
    "gensim uses a fast implementation of online LDA parameter estimation based on [2], modified to run in distributed mode on a cluster of computers."
   ]
  },
  {
   "cell_type": "markdown",
   "metadata": {},
   "source": [
    "### [Hierarchical Dirichlet Process, HDP](http://jmlr.csail.mit.edu/proceedings/papers/v15/wang11a/wang11a.pdf) \n",
    "HDP is a non-parametric bayesian method (note the missing number of requested topics):"
   ]
  },
  {
   "cell_type": "code",
   "execution_count": 15,
   "metadata": {
    "collapsed": false
   },
   "outputs": [
    {
     "name": "stderr",
     "output_type": "stream",
     "text": [
      "2017-05-26 14:16:35,067 : INFO : (0, '0.264*trees + 0.167*computer + 0.133*graph + 0.107*minors + 0.097*interface + 0.064*survey + 0.048*user + 0.040*time + 0.026*system + 0.025*human')\n",
      "2017-05-26 14:16:35,068 : INFO : (1, '0.221*human + 0.135*trees + 0.122*eps + 0.094*interface + 0.077*user + 0.075*graph + 0.072*response + 0.065*system + 0.054*minors + 0.044*computer')\n",
      "2017-05-26 14:16:35,070 : INFO : (2, '0.242*user + 0.216*time + 0.195*system + 0.133*minors + 0.078*survey + 0.052*eps + 0.025*response + 0.021*interface + 0.013*computer + 0.011*human')\n",
      "2017-05-26 14:16:35,073 : INFO : (3, '0.335*survey + 0.144*eps + 0.096*computer + 0.085*graph + 0.065*system + 0.063*minors + 0.059*time + 0.048*human + 0.042*user + 0.037*response')\n",
      "2017-05-26 14:16:35,075 : INFO : (4, '0.164*eps + 0.158*user + 0.154*human + 0.142*graph + 0.126*minors + 0.081*survey + 0.064*interface + 0.031*response + 0.028*trees + 0.024*system')\n",
      "2017-05-26 14:16:35,077 : INFO : (5, '0.289*time + 0.174*user + 0.103*eps + 0.102*system + 0.084*graph + 0.064*minors + 0.063*survey + 0.053*computer + 0.028*human + 0.027*trees')\n",
      "2017-05-26 14:16:35,079 : INFO : (6, '0.259*computer + 0.210*minors + 0.108*system + 0.104*response + 0.094*human + 0.063*trees + 0.049*graph + 0.046*eps + 0.035*time + 0.017*survey')\n",
      "2017-05-26 14:16:35,083 : INFO : (7, '0.181*time + 0.176*interface + 0.128*survey + 0.125*eps + 0.090*graph + 0.089*user + 0.064*system + 0.055*human + 0.053*minors + 0.021*response')\n",
      "2017-05-26 14:16:35,086 : INFO : (8, '0.266*response + 0.160*user + 0.154*human + 0.144*system + 0.133*survey + 0.061*computer + 0.055*minors + 0.016*trees + 0.009*interface + 0.002*eps')\n",
      "2017-05-26 14:16:35,089 : INFO : (9, '0.281*eps + 0.215*time + 0.099*system + 0.088*graph + 0.077*response + 0.070*trees + 0.057*interface + 0.057*survey + 0.024*computer + 0.015*minors')\n",
      "2017-05-26 14:16:35,092 : INFO : (10, '0.196*human + 0.185*eps + 0.133*system + 0.112*user + 0.104*interface + 0.081*time + 0.066*survey + 0.034*minors + 0.033*response + 0.022*trees')\n",
      "2017-05-26 14:16:35,094 : INFO : (11, '0.192*computer + 0.176*time + 0.126*user + 0.113*system + 0.111*trees + 0.097*graph + 0.057*human + 0.046*survey + 0.037*response + 0.023*minors')\n",
      "2017-05-26 14:16:35,096 : INFO : (12, '0.286*user + 0.217*time + 0.144*computer + 0.125*graph + 0.087*trees + 0.052*system + 0.042*interface + 0.019*response + 0.016*minors + 0.005*human')\n",
      "2017-05-26 14:16:35,099 : INFO : (13, '0.258*minors + 0.175*graph + 0.142*interface + 0.134*user + 0.110*response + 0.061*eps + 0.053*survey + 0.019*computer + 0.018*time + 0.013*system')\n",
      "2017-05-26 14:16:35,101 : INFO : (14, '0.221*eps + 0.216*response + 0.122*time + 0.113*computer + 0.103*user + 0.095*minors + 0.043*trees + 0.040*system + 0.038*interface + 0.009*survey')\n",
      "2017-05-26 14:16:35,104 : INFO : (15, '0.238*eps + 0.187*user + 0.153*interface + 0.103*minors + 0.068*survey + 0.063*graph + 0.049*system + 0.048*response + 0.041*trees + 0.021*computer')\n",
      "2017-05-26 14:16:35,106 : INFO : (16, '0.276*response + 0.214*eps + 0.097*survey + 0.071*graph + 0.070*time + 0.063*minors + 0.062*computer + 0.047*human + 0.043*trees + 0.027*system')\n",
      "2017-05-26 14:16:35,108 : INFO : (17, '0.188*system + 0.177*human + 0.165*minors + 0.112*user + 0.101*trees + 0.078*computer + 0.071*eps + 0.052*time + 0.031*survey + 0.017*interface')\n",
      "2017-05-26 14:16:35,111 : INFO : (18, '0.309*survey + 0.238*time + 0.108*user + 0.072*eps + 0.066*interface + 0.059*human + 0.057*computer + 0.035*graph + 0.035*response + 0.012*trees')\n",
      "2017-05-26 14:16:35,113 : INFO : (19, '0.381*human + 0.116*computer + 0.100*user + 0.084*interface + 0.065*survey + 0.055*time + 0.047*minors + 0.047*system + 0.043*graph + 0.032*trees')\n"
     ]
    }
   ],
   "source": [
    "model = models.HdpModel(corpus, id2word=dictionary)"
   ]
  },
  {
   "cell_type": "markdown",
   "metadata": {},
   "source": [
    "gensim uses a fast, online implementation based on [3]. The HDP model is a new addition to gensim, and still rough around its academic edges – use with care."
   ]
  },
  {
   "cell_type": "markdown",
   "metadata": {},
   "source": [
    "Adding new VSM transformations (such as different weighting schemes) is rather trivial; see the API reference or directly the Python code for more info and examples.\n",
    "\n",
    "It is worth repeating that these are all unique, incremental implementations, which do not require the whole training corpus to be present in main memory all at once. With memory taken care of, I am now improving Distributed Computing, to improve CPU efficiency, too. If you feel you could contribute (by testing, providing use-cases or code), please let me know.\n",
    "\n",
    "Continue on to the next tutorial on [Similarity Queries](./Similarity_Queries.ipynb)."
   ]
  },
  {
   "cell_type": "markdown",
   "metadata": {},
   "source": [
    "---\n",
    "[1]\tBradford. 2008. An empirical study of required dimensionality for large-scale latent semantic indexing applications.  \n",
    "[2]\tHoffman, Blei, Bach. 2010. Online learning for Latent Dirichlet Allocation.  \n",
    "[3]\tWang, Paisley, Blei. 2011. Online variational inference for the hierarchical Dirichlet process.  \n",
    "[4]\tHalko, Martinsson, Tropp. 2009. Finding structure with randomness.  \n",
    "[5]\tŘehůřek. 2011. Subspace tracking for Latent Semantic Analysis.  "
   ]
  }
 ],
 "metadata": {
  "kernelspec": {
   "display_name": "Python 3",
   "language": "python",
   "name": "python3"
  },
  "language_info": {
   "codemirror_mode": {
    "name": "ipython",
    "version": 3
   },
   "file_extension": ".py",
   "mimetype": "text/x-python",
   "name": "python",
   "nbconvert_exporter": "python",
   "pygments_lexer": "ipython3",
   "version": "3.6.0"
  }
 },
 "nbformat": 4,
 "nbformat_minor": 0
}
